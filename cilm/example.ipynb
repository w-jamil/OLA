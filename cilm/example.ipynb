{
 "cells": [
  {
   "cell_type": "code",
   "execution_count": 1,
   "metadata": {},
   "outputs": [],
   "source": [
    "import pandas as pd\n",
    "import cilm as lm"
   ]
  },
  {
   "cell_type": "markdown",
   "metadata": {},
   "source": [
    "#### FEDFUND"
   ]
  },
  {
   "cell_type": "code",
   "execution_count": 2,
   "metadata": {},
   "outputs": [],
   "source": [
    "# fred = Fred(api_key='5e4a18b3ce1c062376bf966bea553db9')\n",
    "# data = fred.get_series('FEDFUNDS')\n",
    "fred = pd.read_csv(\"C:\\\\Users\\\\lenovo\\\\OneDrive\\\\Documents\\\\academia\\\\extremexp\\\\cilm\\\\data\\\\us_rates.csv\")\n",
    "fred.columns = ['DATE',\"RATES\"]\n",
    "fred['DATE'] = pd.to_datetime(fred['DATE'],dayfirst=True)\n",
    "fred.index = fred.DATE\n",
    "data = fred.drop(['DATE'],axis=1)\n",
    "data = pd.Series(data['RATES'])\n",
    "cilm1 = lm.CILM(20,data,\"RATES\",\"DATE\",0.95)\n",
    "out = cilm1.sim()\n",
    "out.index = pd.to_datetime(out[\"DATE\"])\n",
    "out = out.drop([\"DATE\"],axis=1)\n",
    "classical_case = out[[\"ACTUAL\",\"NLCI\",\"NUCI\"]]\n",
    "######################################################################################\n",
    "# If Y is outside the interval assign -1 else 1\n",
    "# Then we count the 1's and -1's to see the amount of times the forcast was outsie and inside the interval\n",
    "####################################################################################\n",
    "cc = []\n",
    "\n",
    "for i in range(len(classical_case)):\n",
    "  if (classical_case[\"ACTUAL\"].iloc[i] < classical_case[\"NLCI\"].iloc[i]) or (classical_case[\"ACTUAL\"].iloc[i] > classical_case[\"NUCI\"].iloc[i]):\n",
    "    cc.append(-1)\n",
    "  else:\n",
    "    cc.append(1)\n",
    "machine_case = out[[\"ACTUAL\",\"CLCI\",\"CUCI\"]]\n",
    "###############################################################################\n",
    "# If Y is outside the interval assign -1 else 1\n",
    "# Then we count the 1's and -1's to see the amount of times the forcast was outsie and inside the interval\n",
    "###############################################################################\n",
    "mc = []\n",
    "for i in range(len(machine_case)):\n",
    "\n",
    "  if (machine_case[\"ACTUAL\"].iloc[i] < machine_case[\"CLCI\"].iloc[i]) or (machine_case[\"ACTUAL\"].iloc[i] > machine_case[\"CUCI\"].iloc[i]):\n",
    "    \n",
    "    mc.append(-1)\n",
    "\n",
    "  else:\n",
    "\n",
    "    mc.append(1)\n",
    "output = pd.concat([pd.Series(mc),pd.Series(cc)],axis=1)\n",
    "output.columns = [\"MACHINE\",\"CLASSICAL\"]"
   ]
  },
  {
   "cell_type": "code",
   "execution_count": 9,
   "metadata": {},
   "outputs": [
    {
     "name": "stdout",
     "output_type": "stream",
     "text": [
      "CILM PERCENTAGE OUTSIDE INTERVALS @95% \n",
      " 0.46\n"
     ]
    }
   ],
   "source": [
    "print(f\"CILM PERCENTAGE OUTSIDE INTERVALS @95% \\n {round(abs(output[output.MACHINE == -1]['MACHINE'].sum())/len(output),2)}\")"
   ]
  },
  {
   "cell_type": "code",
   "execution_count": 7,
   "metadata": {},
   "outputs": [
    {
     "name": "stdout",
     "output_type": "stream",
     "text": [
      "NCI PERCENTAGE OUTSIDE INTERVALS @95% \n",
      " 0.88\n"
     ]
    }
   ],
   "source": [
    "# 88% OF THE TIME INCORRECT\n",
    "# OTHER THAN NAYMAN CONFIDENCE INTERVAL - NO OTHER EXIST (TO THE BEST OF MY KNOWLEDGE)\n",
    "\n",
    "print(f\"NCI PERCENTAGE OUTSIDE INTERVALS @95% \\n {round(abs(output[output.CLASSICAL == -1]['CLASSICAL'].sum())/len(output),2)}\")"
   ]
  }
 ],
 "metadata": {
  "kernelspec": {
   "display_name": "Python 3",
   "language": "python",
   "name": "python3"
  },
  "language_info": {
   "codemirror_mode": {
    "name": "ipython",
    "version": 3
   },
   "file_extension": ".py",
   "mimetype": "text/x-python",
   "name": "python",
   "nbconvert_exporter": "python",
   "pygments_lexer": "ipython3",
   "version": "3.11.9"
  }
 },
 "nbformat": 4,
 "nbformat_minor": 2
}
